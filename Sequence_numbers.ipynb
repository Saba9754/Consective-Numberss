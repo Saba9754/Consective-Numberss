{
  "nbformat": 4,
  "nbformat_minor": 0,
  "metadata": {
    "colab": {
      "provenance": [],
      "authorship_tag": "ABX9TyOTc3I0sVQPHVDMcREkLGFu",
      "include_colab_link": true
    },
    "kernelspec": {
      "name": "python3",
      "display_name": "Python 3"
    },
    "language_info": {
      "name": "python"
    }
  },
  "cells": [
    {
      "cell_type": "markdown",
      "metadata": {
        "id": "view-in-github",
        "colab_type": "text"
      },
      "source": [
        "<a href=\"https://colab.research.google.com/github/Saba9754/Consective-Numberss/blob/main/Sequence_numbers.ipynb\" target=\"_parent\"><img src=\"https://colab.research.google.com/assets/colab-badge.svg\" alt=\"Open In Colab\"/></a>"
      ]
    },
    {
      "cell_type": "code",
      "execution_count": null,
      "metadata": {
        "colab": {
          "base_uri": "https://localhost:8080/"
        },
        "id": "i9iQayqnQQG4",
        "outputId": "8df1684b-fe6a-4e87-9076-735a07cdf84d"
      },
      "outputs": [
        {
          "output_type": "stream",
          "name": "stdout",
          "text": [
            "Horizontal sequence: [7, 8, 9] starting at (0, 0)\n",
            "No vertical sequence found\n"
          ]
        }
      ],
      "source": [
        "def is_consecutive(s):\n",
        "    for i in range(1, len(s)):\n",
        "        if s[i] != s[i-1] + 1:\n",
        "            return False\n",
        "    return True\n",
        "\n",
        "def find_sequences(m, l):\n",
        "    r = len(m)\n",
        "    c = len(m[0])\n",
        "\n",
        "    horizontal_found = False\n",
        "    vertical_found = False\n",
        "\n",
        "    for i in range(r):\n",
        "        for j in range(c):\n",
        "            if j <= c - l:\n",
        "                h_seq = [m[i][j+k] for k in range(l)]\n",
        "                if is_consecutive(h_seq):\n",
        "                    print(f\"Horizontal sequence: {h_seq} starting at ({i}, {j})\")\n",
        "                    horizontal_found = True\n",
        "            if i <= r - l:\n",
        "                v_seq = [m[i+k][j] for k in range(l)]\n",
        "                if is_consecutive(v_seq):\n",
        "                    print(f\"Vertical sequence: {v_seq} starting at ({i}, {j})\")\n",
        "                    vertical_found = True\n",
        "\n",
        "    if not horizontal_found:\n",
        "        print(\"No horizontal sequence found\")\n",
        "    if not vertical_found:\n",
        "        print(\"No vertical sequence found\")\n",
        "\n",
        "m = [\n",
        "    [7, 8, 9],\n",
        "    [6, 7, 9],\n",
        "    [5, 7, 8]\n",
        "]\n",
        "\n",
        "l = 3\n",
        "\n",
        "find_sequences(m, l)\n"
      ]
    }
  ]
}